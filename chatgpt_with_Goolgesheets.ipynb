{
  "nbformat": 4,
  "nbformat_minor": 0,
  "metadata": {
    "colab": {
      "provenance": [],
      "authorship_tag": "ABX9TyNGe9Bw06PbFrP/CzN4au1r",
      "include_colab_link": true
    },
    "kernelspec": {
      "name": "python3",
      "display_name": "Python 3"
    },
    "language_info": {
      "name": "python"
    }
  },
  "cells": [
    {
      "cell_type": "markdown",
      "metadata": {
        "id": "view-in-github",
        "colab_type": "text"
      },
      "source": [
        "<a href=\"https://colab.research.google.com/github/PriyankShah1/python-project-/blob/main/chatgpt_with_Goolgesheets.ipynb\" target=\"_parent\"><img src=\"https://colab.research.google.com/assets/colab-badge.svg\" alt=\"Open In Colab\"/></a>"
      ]
    },
    {
      "cell_type": "code",
      "execution_count": null,
      "metadata": {
        "id": "J-MMEqgqdpqB"
      },
      "outputs": [],
      "source": [
        "// Constants\n",
        "const API_KEY = \" your api keys \";\n",
        "const MODEL_TYPE = \"gpt-3.5-turbo\"; //chatGPT model\n",
        "\n",
        "// Creates a custom menu in Google Sheet\n",
        "function onOpen() {\n",
        "  SpreadsheetApp.getUi().createMenu(\"ChatGPT\")\n",
        "      .addItem(\"Generate Keywords\", \"generateKeywords\")\n",
        "      .addItem(\"Create Ad Copy\", \"generateAdCopy\")\n",
        "      .addToUi();\n",
        "}\n",
        "\n",
        "\n",
        "\n",
        "\n",
        "function generateAdCopy() {\n",
        "  const sheet = SpreadsheetApp.getActiveSpreadsheet().getActiveSheet();\n",
        "  const selectedText = sheet.getActiveRange().getValue();\n",
        "  const prompt = \"Generate 5 descrtion Copies for this keyword : \" + selectedText;\n",
        "  const temperature = 0;\n",
        "  const maxTokens = 2050;\n",
        "\n",
        "  const requestBody = {\n",
        "    model: MODEL_TYPE,\n",
        "    messages: [{role: \"user\", content: prompt}],\n",
        "    temperature,\n",
        "    max_tokens: maxTokens,\n",
        "  };\n",
        "\n",
        "  const requestOptions = {\n",
        "    method: \"POST\",\n",
        "    headers: {\n",
        "      \"Content-Type\": \"application/json\",\n",
        "      Authorization: \"Bearer \" + API_KEY,\n",
        "    },\n",
        "    payload: JSON.stringify(requestBody),\n",
        "  };\n",
        "\n",
        "\n",
        "  const response = UrlFetchApp.fetch(\"https://api.openai.com/v1/chat/completions\", requestOptions);\n",
        "  const responseText = response.getContentText();\n",
        "  const json = JSON.parse(responseText);\n",
        "  const generatedText = json['choices'][0]['message']['content'];\n",
        "  Logger.log(generatedText);\n",
        "\n",
        "  sheet.getRange(sheet.getLastRow() + 1, 1).setValue(generatedText.toString());\n",
        "}\n",
        "\n",
        "\n",
        "function generateKeywords() {\n",
        "  const sheet = SpreadsheetApp.getActiveSpreadsheet().getActiveSheet();\n",
        "  const selectedText = sheet.getActiveRange().getValue();\n",
        "  const prompt = \"Generate 50 mostly used Keywords for views on youtube using : \" + selectedText;\n",
        "  const temperature = 0;\n",
        "  const maxTokens = 2050;\n",
        "\n",
        "  const requestBody = {\n",
        "    model: MODEL_TYPE,\n",
        "    messages: [{role: \"user\", content: prompt}],\n",
        "    temperature,\n",
        "    max_tokens: maxTokens,\n",
        "  };\n",
        "\n",
        "  const requestOptions = {\n",
        "    method: \"POST\",\n",
        "    headers: {\n",
        "      \"Content-Type\": \"application/json\",\n",
        "      Authorization: \"Bearer \" + API_KEY,\n",
        "    },\n",
        "    payload: JSON.stringify(requestBody),\n",
        "  };\n",
        "\n",
        "\n",
        "  const response = UrlFetchApp.fetch(\"https://api.openai.com/v1/chat/completions\", requestOptions);\n",
        "  const responseText = response.getContentText();\n",
        "  const json = JSON.parse(responseText);\n",
        "  const generatedText = json['choices'][0]['message']['content'];\n",
        "  Logger.log(generatedText);\n",
        "\n",
        "  sheet.getRange(sheet.getLastRow() + 1, 1).setValue(generatedText.toString());\n",
        "}\n"
      ]
    }
  ]
}